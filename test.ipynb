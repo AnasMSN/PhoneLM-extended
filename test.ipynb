{
 "cells": [
  {
   "cell_type": "code",
   "execution_count": 1,
   "metadata": {},
   "outputs": [
    {
     "name": "stdout",
     "output_type": "stream",
     "text": [
      "tensor([[[0.1496, 0.2420, 0.3677, 0.0648],\n",
      "         [0.1828, 0.1960, 0.3719, 0.0380],\n",
      "         [0.1579, 0.2293, 0.3684, 0.0571]],\n",
      "\n",
      "        [[0.1721, 0.2966, 0.4876, 0.0637],\n",
      "         [0.1790, 0.2876, 0.4760, 0.0895],\n",
      "         [0.1762, 0.3005, 0.4881, 0.0837]]], grad_fn=<UnsafeViewBackward0>)\n"
     ]
    }
   ],
   "source": [
    "import torch\n",
    "import torch.nn.functional as F\n",
    "\n",
    "# Example input: batch of 2 sequences, each with 3 tokens, and embedding size of 4\n",
    "hidden_states = torch.tensor([[[1, 0, 1, 0], [0, 1, 0, 1], [1, 1, 1, 1]],\n",
    "                              [[1, 1, 0, 0], [0, 0, 1, 1], [1, 0, 1, 1]]], dtype=torch.float32)\n",
    "\n",
    "# Linear projections for queries, keys, and values\n",
    "q_proj = torch.nn.Linear(4, 4)\n",
    "k_proj = torch.nn.Linear(4, 4)\n",
    "v_proj = torch.nn.Linear(4, 4)\n",
    "\n",
    "# Compute queries, keys, and values\n",
    "queries = q_proj(hidden_states)\n",
    "keys = k_proj(hidden_states)\n",
    "values = v_proj(hidden_states)\n",
    "\n",
    "# Compute attention scores\n",
    "scores = torch.matmul(queries, keys.transpose(-2, -1)) / torch.sqrt(torch.tensor(4.0))\n",
    "\n",
    "# Apply softmax to get attention weights\n",
    "attn_weights = F.softmax(scores, dim=-1)\n",
    "\n",
    "# Compute weighted sum of values\n",
    "attn_output = torch.matmul(attn_weights, values)\n",
    "\n",
    "print(attn_output)"
   ]
  },
  {
   "cell_type": "code",
   "execution_count": 2,
   "metadata": {},
   "outputs": [
    {
     "name": "stderr",
     "output_type": "stream",
     "text": [
      "2025-01-16 10:50:33.908130: I tensorflow/core/util/port.cc:113] oneDNN custom operations are on. You may see slightly different numerical results due to floating-point round-off errors from different computation orders. To turn them off, set the environment variable `TF_ENABLE_ONEDNN_OPTS=0`.\n",
      "2025-01-16 10:50:33.939846: E external/local_xla/xla/stream_executor/cuda/cuda_dnn.cc:9261] Unable to register cuDNN factory: Attempting to register factory for plugin cuDNN when one has already been registered\n",
      "2025-01-16 10:50:33.939876: E external/local_xla/xla/stream_executor/cuda/cuda_fft.cc:607] Unable to register cuFFT factory: Attempting to register factory for plugin cuFFT when one has already been registered\n",
      "2025-01-16 10:50:33.940767: E external/local_xla/xla/stream_executor/cuda/cuda_blas.cc:1515] Unable to register cuBLAS factory: Attempting to register factory for plugin cuBLAS when one has already been registered\n",
      "2025-01-16 10:50:33.946331: I tensorflow/core/platform/cpu_feature_guard.cc:182] This TensorFlow binary is optimized to use available CPU instructions in performance-critical operations.\n",
      "To enable the following instructions: AVX2 AVX512F AVX512_VNNI FMA, in other operations, rebuild TensorFlow with the appropriate compiler flags.\n",
      "2025-01-16 10:50:34.638722: W tensorflow/compiler/tf2tensorrt/utils/py_utils.cc:38] TF-TRT Warning: Could not find TensorRT\n"
     ]
    },
    {
     "ename": "ImportError",
     "evalue": "cannot import name 'is_torch_greater_or_equal_than_1_13' from 'transformers.pytorch_utils' (/home/cqilab/anaconda3/envs/sgrs/lib/python3.11/site-packages/transformers/pytorch_utils.py)",
     "output_type": "error",
     "traceback": [
      "\u001b[0;31m---------------------------------------------------------------------------\u001b[0m",
      "\u001b[0;31mImportError\u001b[0m                               Traceback (most recent call last)",
      "Cell \u001b[0;32mIn[2], line 2\u001b[0m\n\u001b[1;32m      1\u001b[0m \u001b[38;5;28;01mimport\u001b[39;00m \u001b[38;5;21;01mtorch\u001b[39;00m\n\u001b[0;32m----> 2\u001b[0m \u001b[38;5;28;01mfrom\u001b[39;00m \u001b[38;5;21;01mmodeling_phonelm\u001b[39;00m \u001b[38;5;28;01mimport\u001b[39;00m PhoneLMAttention\n\u001b[1;32m      3\u001b[0m \u001b[38;5;28;01mfrom\u001b[39;00m \u001b[38;5;21;01mconfiguration_phonelm\u001b[39;00m \u001b[38;5;28;01mimport\u001b[39;00m PhoneLMConfig\n\u001b[1;32m      5\u001b[0m config \u001b[38;5;241m=\u001b[39m PhoneLMConfig()\n",
      "File \u001b[0;32m/DISK/[Team]QAI/Anas/2025/Codes/PhoneLM/PhoneLM/modeling_phonelm.py:59\u001b[0m\n\u001b[1;32m     54\u001b[0m     \u001b[38;5;28;01mfrom\u001b[39;00m \u001b[38;5;21;01mflash_attn\u001b[39;00m \u001b[38;5;28;01mimport\u001b[39;00m flash_attn_func, flash_attn_varlen_func\n\u001b[1;32m     55\u001b[0m     \u001b[38;5;28;01mfrom\u001b[39;00m \u001b[38;5;21;01mflash_attn\u001b[39;00m\u001b[38;5;21;01m.\u001b[39;00m\u001b[38;5;21;01mbert_padding\u001b[39;00m \u001b[38;5;28;01mimport\u001b[39;00m index_first_axis, pad_input, unpad_input  \u001b[38;5;66;03m# noqa\u001b[39;00m\n\u001b[0;32m---> 59\u001b[0m \u001b[38;5;28;01mfrom\u001b[39;00m \u001b[38;5;21;01mtransformers\u001b[39;00m\u001b[38;5;21;01m.\u001b[39;00m\u001b[38;5;21;01mpytorch_utils\u001b[39;00m \u001b[38;5;28;01mimport\u001b[39;00m (\n\u001b[1;32m     60\u001b[0m     ALL_LAYERNORM_LAYERS,\n\u001b[1;32m     61\u001b[0m     is_torch_greater_or_equal_than_1_13,\n\u001b[1;32m     62\u001b[0m )\n\u001b[1;32m     64\u001b[0m \u001b[38;5;28;01mfrom\u001b[39;00m \u001b[38;5;21;01mtransformers\u001b[39;00m\u001b[38;5;21;01m.\u001b[39;00m\u001b[38;5;21;01mmodeling_attn_mask_utils\u001b[39;00m \u001b[38;5;28;01mimport\u001b[39;00m (\n\u001b[1;32m     65\u001b[0m     AttentionMaskConverter,\n\u001b[1;32m     66\u001b[0m     _prepare_4d_attention_mask,\n\u001b[1;32m     67\u001b[0m     _prepare_4d_causal_attention_mask,\n\u001b[1;32m     68\u001b[0m )\n\u001b[1;32m     69\u001b[0m \u001b[38;5;28;01mfrom\u001b[39;00m \u001b[38;5;21;01mtransformers\u001b[39;00m\u001b[38;5;21;01m.\u001b[39;00m\u001b[38;5;21;01mutils\u001b[39;00m\u001b[38;5;21;01m.\u001b[39;00m\u001b[38;5;21;01mimport_utils\u001b[39;00m \u001b[38;5;28;01mimport\u001b[39;00m is_torch_fx_available\n",
      "\u001b[0;31mImportError\u001b[0m: cannot import name 'is_torch_greater_or_equal_than_1_13' from 'transformers.pytorch_utils' (/home/cqilab/anaconda3/envs/sgrs/lib/python3.11/site-packages/transformers/pytorch_utils.py)"
     ]
    }
   ],
   "source": [
    "import torch\n",
    "from modeling_phonelm import PhoneLMAttention\n",
    "from configuration_phonelm import PhoneLMConfig\n",
    "\n",
    "config = PhoneLMConfig()\n",
    "\n",
    "attention_layer = PhoneLMAttention(config)\n",
    "\n",
    "batch_size = 2\n",
    "seq_length = 10\n",
    "hidden_size = config.hidden_size\n",
    "\n",
    "hidden_states = torch.randn(batch_size, seq_length, hidden_size)\n",
    "attention_mask = torch.zeros(batch_size, 1, 1, seq_length) # no mask\n",
    "position_ids = torch.arange(seq_length).unsqueeze(0).repeat(batch_size, 1)\n",
    "\n",
    "print(hidden_states.shape)\n",
    "print(attention_mask.shape)\n",
    "print(position_ids.shape)\n",
    "\n",
    "attn_output, attn_weights, past_key_value = attention_layer(hidden_states, attention_mask, position_ids, output_attentions=True)\n",
    "\n",
    "print(attn_output.shape)\n",
    "print(attn_weights.shape)\n",
    "print(past_key_value) \n"
   ]
  }
 ],
 "metadata": {
  "kernelspec": {
   "display_name": "sgrs",
   "language": "python",
   "name": "python3"
  },
  "language_info": {
   "codemirror_mode": {
    "name": "ipython",
    "version": 3
   },
   "file_extension": ".py",
   "mimetype": "text/x-python",
   "name": "python",
   "nbconvert_exporter": "python",
   "pygments_lexer": "ipython3",
   "version": "3.11.5"
  }
 },
 "nbformat": 4,
 "nbformat_minor": 2
}
