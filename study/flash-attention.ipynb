{
 "cells": [
  {
   "cell_type": "code",
   "execution_count": 1,
   "metadata": {},
   "outputs": [
    {
     "name": "stdout",
     "output_type": "stream",
     "text": [
      "tensor([[[ 0.0342, -0.0846,  0.8417,  0.2226],\n",
      "         [ 0.0309, -0.0841,  0.8209,  0.2075],\n",
      "         [ 0.0297, -0.0901,  0.8084,  0.1971]],\n",
      "\n",
      "        [[-0.0596,  0.0722,  0.7060,  0.1779],\n",
      "         [-0.2214,  0.1443,  0.6843,  0.1402],\n",
      "         [-0.1990,  0.1342,  0.6855,  0.1452]]], grad_fn=<UnsafeViewBackward0>)\n"
     ]
    }
   ],
   "source": [
    "import torch\n",
    "import torch.nn.functional as F\n",
    "\n",
    "# Example input: batch of 2 sequences, each with 3 tokens, and embedding size of 4\n",
    "hidden_states = torch.tensor([[[1, 0, 1, 0], [0, 1, 0, 1], [1, 1, 1, 1]],\n",
    "                              [[1, 1, 0, 0], [0, 0, 1, 1], [1, 0, 1, 1]]], dtype=torch.float32)\n",
    "\n",
    "# Linear projections for queries, keys, and values\n",
    "q_proj = torch.nn.Linear(4, 4)\n",
    "k_proj = torch.nn.Linear(4, 4)\n",
    "v_proj = torch.nn.Linear(4, 4)\n",
    "\n",
    "# Compute queries, keys, and values\n",
    "queries = q_proj(hidden_states)\n",
    "keys = k_proj(hidden_states)\n",
    "values = v_proj(hidden_states)\n",
    "\n",
    "# Compute attention scores\n",
    "scores = torch.matmul(queries, keys.transpose(-2, -1)) / torch.sqrt(torch.tensor(4.0))\n",
    "\n",
    "# Apply softmax to get attention weights\n",
    "attn_weights = F.softmax(scores, dim=-1)\n",
    "\n",
    "# Compute weighted sum of values\n",
    "attn_output = torch.matmul(attn_weights, values)\n",
    "\n",
    "print(attn_output)"
   ]
  },
  {
   "cell_type": "code",
   "execution_count": 1,
   "metadata": {},
   "outputs": [
    {
     "name": "stderr",
     "output_type": "stream",
     "text": [
      "2025-01-16 11:03:34.882375: I tensorflow/core/util/port.cc:113] oneDNN custom operations are on. You may see slightly different numerical results due to floating-point round-off errors from different computation orders. To turn them off, set the environment variable `TF_ENABLE_ONEDNN_OPTS=0`.\n",
      "2025-01-16 11:03:34.914279: E external/local_xla/xla/stream_executor/cuda/cuda_dnn.cc:9261] Unable to register cuDNN factory: Attempting to register factory for plugin cuDNN when one has already been registered\n",
      "2025-01-16 11:03:34.914312: E external/local_xla/xla/stream_executor/cuda/cuda_fft.cc:607] Unable to register cuFFT factory: Attempting to register factory for plugin cuFFT when one has already been registered\n",
      "2025-01-16 11:03:34.915221: E external/local_xla/xla/stream_executor/cuda/cuda_blas.cc:1515] Unable to register cuBLAS factory: Attempting to register factory for plugin cuBLAS when one has already been registered\n",
      "2025-01-16 11:03:34.920873: I tensorflow/core/platform/cpu_feature_guard.cc:182] This TensorFlow binary is optimized to use available CPU instructions in performance-critical operations.\n",
      "To enable the following instructions: AVX2 AVX512F AVX512_VNNI FMA, in other operations, rebuild TensorFlow with the appropriate compiler flags.\n",
      "2025-01-16 11:03:36.612628: W tensorflow/compiler/tf2tensorrt/utils/py_utils.cc:38] TF-TRT Warning: Could not find TensorRT\n",
      "Instantiating PhoneLMAttention without passing a `layer_idx` is not recommended and will lead to errors during the forward call if caching is used. Please make sure to provide a `layer_idx` when creating this class.\n"
     ]
    },
    {
     "name": "stdout",
     "output_type": "stream",
     "text": [
      "torch.Size([2, 10, 4096])\n",
      "torch.Size([2, 1, 1, 10])\n",
      "torch.Size([2, 10])\n",
      "torch.Size([2, 10, 4096])\n",
      "torch.Size([2, 32, 10, 10])\n",
      "None\n"
     ]
    }
   ],
   "source": [
    "import torch\n",
    "import sys\n",
    "import os\n",
    "\n",
    "# from ..modeling_phonelm import PhoneLMAttention\n",
    "# from configuration_phonelm import PhoneLMConfig\n",
    "\n",
    "current_dir = os.getcwd()\n",
    "\n",
    "parent_dir = os.path.abspath(os.path.join(os.path.dirname(current_dir), \".\"))\n",
    "sys.path.insert(0, parent_dir)\n",
    "\n",
    "from modeling_phonelm import PhoneLMAttention\n",
    "from configuration_phonelm import PhoneLMConfig\n",
    "\n",
    "config = PhoneLMConfig()\n",
    "\n",
    "attention_layer = PhoneLMAttention(config)\n",
    "\n",
    "batch_size = 2\n",
    "seq_length = 10\n",
    "hidden_size = config.hidden_size\n",
    "\n",
    "hidden_states = torch.randn(batch_size, seq_length, hidden_size)\n",
    "attention_mask = torch.zeros(batch_size, 1, 1, seq_length) # no mask\n",
    "position_ids = torch.arange(seq_length).unsqueeze(0).repeat(batch_size, 1)\n",
    "\n",
    "print(hidden_states.shape)\n",
    "print(attention_mask.shape)\n",
    "print(position_ids.shape)\n",
    "\n",
    "attn_output, attn_weights, past_key_value = attention_layer(hidden_states, attention_mask, position_ids, output_attentions=True)\n",
    "\n",
    "print(attn_output.shape)\n",
    "print(attn_weights.shape)\n",
    "print(past_key_value) \n"
   ]
  }
 ],
 "metadata": {
  "kernelspec": {
   "display_name": "sgrs",
   "language": "python",
   "name": "python3"
  },
  "language_info": {
   "codemirror_mode": {
    "name": "ipython",
    "version": 3
   },
   "file_extension": ".py",
   "mimetype": "text/x-python",
   "name": "python",
   "nbconvert_exporter": "python",
   "pygments_lexer": "ipython3",
   "version": "3.11.5"
  }
 },
 "nbformat": 4,
 "nbformat_minor": 2
}
